{
  "nbformat": 4,
  "nbformat_minor": 0,
  "metadata": {
    "colab": {
      "name": "Reto58.ipynb",
      "provenance": [],
      "authorship_tag": "ABX9TyMZ6P6YoZTTFX6d75VcRLAq",
      "include_colab_link": true
    },
    "kernelspec": {
      "name": "python3",
      "display_name": "Python 3"
    },
    "language_info": {
      "name": "python"
    }
  },
  "cells": [
    {
      "cell_type": "markdown",
      "metadata": {
        "id": "view-in-github",
        "colab_type": "text"
      },
      "source": [
        "<a href=\"https://colab.research.google.com/github/ildacec/Python_Reto100diasconPython/blob/main/Reto58.ipynb\" target=\"_parent\"><img src=\"https://colab.research.google.com/assets/colab-badge.svg\" alt=\"Open In Colab\"/></a>"
      ]
    },
    {
      "cell_type": "code",
      "execution_count": 13,
      "metadata": {
        "colab": {
          "base_uri": "https://localhost:8080/"
        },
        "id": "ASEa3VD4aasy",
        "outputId": "c15b8eae-8a10-4795-c993-12071599974b"
      },
      "outputs": [
        {
          "output_type": "stream",
          "name": "stdout",
          "text": [
            "[8, 11, 6]\n"
          ]
        }
      ],
      "source": [
        "##100diasdepython\n",
        "#PyladiesPanamá\n",
        "#Reto Día 58\n",
        "\n",
        "lista_a = [2,4,5]\n",
        "lista_b = [6,7,1]\n",
        "\n",
        "nuevalista=[]\n",
        "\n",
        "nuevalista =  list(map(lambda x, y: x +y, lista_a, lista_b)) \n",
        "\n",
        "\n",
        "print(nuevalista) \n"
      ]
    }
  ]
}