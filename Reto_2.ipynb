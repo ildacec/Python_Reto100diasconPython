{
  "nbformat": 4,
  "nbformat_minor": 0,
  "metadata": {
    "colab": {
      "name": "Reto_2.ipynb",
      "provenance": [],
      "authorship_tag": "ABX9TyNErO+sTBiya/XRnafn9Y98",
      "include_colab_link": true
    },
    "kernelspec": {
      "name": "python3",
      "display_name": "Python 3"
    },
    "language_info": {
      "name": "python"
    }
  },
  "cells": [
    {
      "cell_type": "markdown",
      "metadata": {
        "id": "view-in-github",
        "colab_type": "text"
      },
      "source": [
        "<a href=\"https://colab.research.google.com/github/ildacec/Python_Reto100diasconPython/blob/main/Reto_2.ipynb\" target=\"_parent\"><img src=\"https://colab.research.google.com/assets/colab-badge.svg\" alt=\"Open In Colab\"/></a>"
      ]
    },
    {
      "cell_type": "code",
      "execution_count": 3,
      "metadata": {
        "colab": {
          "base_uri": "https://localhost:8080/"
        },
        "id": "iF1mAopbc_IC",
        "outputId": "20f4de72-b294-4518-ad7e-93cfe43f753f"
      },
      "outputs": [
        {
          "output_type": "stream",
          "name": "stdout",
          "text": [
            "9\n"
          ]
        }
      ],
      "source": [
        "##100diasdepython\n",
        "#PyladiesPanamá\n",
        "#Reto Día 2\n",
        "#Resta 2 número enteros e imprime el resultado\n",
        "\n",
        "a = 10\n",
        "b = 1\n",
        "\n",
        "print( a - b)"
      ]
    }
  ]
}