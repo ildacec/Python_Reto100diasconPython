{
  "nbformat": 4,
  "nbformat_minor": 0,
  "metadata": {
    "colab": {
      "name": "Reto #46.ipynb",
      "provenance": [],
      "authorship_tag": "ABX9TyMEQD/Raw+/C8eWbi0A8c9x",
      "include_colab_link": true
    },
    "kernelspec": {
      "name": "python3",
      "display_name": "Python 3"
    },
    "language_info": {
      "name": "python"
    }
  },
  "cells": [
    {
      "cell_type": "markdown",
      "metadata": {
        "id": "view-in-github",
        "colab_type": "text"
      },
      "source": [
        "<a href=\"https://colab.research.google.com/github/ildacec/Python_Reto100diasconPython/blob/main/Reto_46.ipynb\" target=\"_parent\"><img src=\"https://colab.research.google.com/assets/colab-badge.svg\" alt=\"Open In Colab\"/></a>"
      ]
    },
    {
      "cell_type": "code",
      "execution_count": 7,
      "metadata": {
        "colab": {
          "base_uri": "https://localhost:8080/"
        },
        "id": "h9BMoP67TXRp",
        "outputId": "df1342a6-1e5d-4b98-d0fe-1db8c8894545"
      },
      "outputs": [
        {
          "output_type": "stream",
          "name": "stdout",
          "text": [
            "[0, 1, 2, 3, 4, 5, 6, 7, 8, 9]\n"
          ]
        }
      ],
      "source": [
        "#100diasconPython - #dia46\n",
        "#PyladiesPanama - ildace\n",
        "list_ilda = list(range(10))\n",
        "print (list_ilda)\n",
        "\n"
      ]
    }
  ]
}