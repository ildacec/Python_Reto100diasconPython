{
  "nbformat": 4,
  "nbformat_minor": 0,
  "metadata": {
    "colab": {
      "name": "Reto_5.ipynb",
      "provenance": [],
      "authorship_tag": "ABX9TyOrRUMGOXgYSaZaef2pev1H",
      "include_colab_link": true
    },
    "kernelspec": {
      "name": "python3",
      "display_name": "Python 3"
    },
    "language_info": {
      "name": "python"
    }
  },
  "cells": [
    {
      "cell_type": "markdown",
      "metadata": {
        "id": "view-in-github",
        "colab_type": "text"
      },
      "source": [
        "<a href=\"https://colab.research.google.com/github/ildacec/Python_Reto100diasconPython/blob/main/Reto_5.ipynb\" target=\"_parent\"><img src=\"https://colab.research.google.com/assets/colab-badge.svg\" alt=\"Open In Colab\"/></a>"
      ]
    },
    {
      "cell_type": "code",
      "execution_count": 4,
      "metadata": {
        "colab": {
          "base_uri": "https://localhost:8080/"
        },
        "id": "NEjXI70rZ1Pa",
        "outputId": "a137f47b-d1a4-43d7-c321-ed5217d8e146"
      },
      "outputs": [
        {
          "output_type": "stream",
          "name": "stdout",
          "text": [
            "1\n"
          ]
        }
      ],
      "source": [
        "##100diasdepython\n",
        "#PyladiesPanamá\n",
        "#Reto Día 5\n",
        "#Declara una lista de números y encuentra el valor más pequeño \n",
        "\n",
        "num_listas = [5,8,4,9,3,5,7,1,1]\n",
        "\n",
        "print(min(num_listas))\n"
      ]
    }
  ]
}