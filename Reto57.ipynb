{
  "nbformat": 4,
  "nbformat_minor": 0,
  "metadata": {
    "colab": {
      "name": "Reto57.ipynb",
      "provenance": [],
      "authorship_tag": "ABX9TyOgWbgFCVab9pQe8IUtOv6r",
      "include_colab_link": true
    },
    "kernelspec": {
      "name": "python3",
      "display_name": "Python 3"
    },
    "language_info": {
      "name": "python"
    }
  },
  "cells": [
    {
      "cell_type": "markdown",
      "metadata": {
        "id": "view-in-github",
        "colab_type": "text"
      },
      "source": [
        "<a href=\"https://colab.research.google.com/github/ildacec/Python_Reto100diasconPython/blob/main/Reto57.ipynb\" target=\"_parent\"><img src=\"https://colab.research.google.com/assets/colab-badge.svg\" alt=\"Open In Colab\"/></a>"
      ]
    },
    {
      "cell_type": "code",
      "execution_count": 25,
      "metadata": {
        "colab": {
          "base_uri": "https://localhost:8080/"
        },
        "id": "ASEa3VD4aasy",
        "outputId": "43b3c40e-13c8-41ce-c8d4-22211b5e9474"
      },
      "outputs": [
        {
          "output_type": "stream",
          "name": "stdout",
          "text": [
            "[3, 6, 9]\n"
          ]
        }
      ],
      "source": [
        "##100diasdepython\n",
        "#PyladiesPanamá\n",
        "#Reto Día 47\n",
        "mi_lista = list(range(1,11))\n",
        "mi_lista = list(filter(lambda x: x % 3 == 0, mi_lista))\n",
        "\n",
        "print(mi_lista) \n"
      ]
    }
  ]
}