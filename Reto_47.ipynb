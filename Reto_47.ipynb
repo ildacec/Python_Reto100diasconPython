{
  "nbformat": 4,
  "nbformat_minor": 0,
  "metadata": {
    "colab": {
      "name": "Reto_47.ipynb",
      "provenance": [],
      "authorship_tag": "ABX9TyOvZIiaWdr8yodJYsSDaqeB",
      "include_colab_link": true
    },
    "kernelspec": {
      "name": "python3",
      "display_name": "Python 3"
    },
    "language_info": {
      "name": "python"
    }
  },
  "cells": [
    {
      "cell_type": "markdown",
      "metadata": {
        "id": "view-in-github",
        "colab_type": "text"
      },
      "source": [
        "<a href=\"https://colab.research.google.com/github/ildacec/Python_Reto100diasconPython/blob/main/Reto_47.ipynb\" target=\"_parent\"><img src=\"https://colab.research.google.com/assets/colab-badge.svg\" alt=\"Open In Colab\"/></a>"
      ]
    },
    {
      "cell_type": "code",
      "execution_count": 3,
      "metadata": {
        "colab": {
          "base_uri": "https://localhost:8080/"
        },
        "id": "RkGjq_sVs0-l",
        "outputId": "7301babf-cf4c-44f9-e305-86970698f016"
      },
      "outputs": [
        {
          "output_type": "stream",
          "name": "stdout",
          "text": [
            "[0, 2, 4, 6, 8]\n"
          ]
        }
      ],
      "source": [
        "#100diasconPython - #dia47\n",
        "#PyladiesPanama - ildace\n",
        "list_ilda = list(range(0, 10, 2))\n",
        "print (list_ilda)\n",
        "\n",
        "\n"
      ]
    }
  ]
}